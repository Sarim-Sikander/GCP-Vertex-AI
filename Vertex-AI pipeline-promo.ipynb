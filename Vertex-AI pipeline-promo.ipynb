{
 "cells": [
  {
   "cell_type": "code",
   "execution_count": 1,
   "id": "8c5b085f",
   "metadata": {},
   "outputs": [],
   "source": [
    "import google.cloud.aiplatform as aip\n",
    "import kfp"
   ]
  },
  {
   "cell_type": "code",
   "execution_count": 2,
   "id": "ca86cd4e",
   "metadata": {},
   "outputs": [
    {
     "data": {
      "text/plain": [
       "'assessment1-361706'"
      ]
     },
     "execution_count": 2,
     "metadata": {},
     "output_type": "execute_result"
    }
   ],
   "source": [
    "project = !gcloud config get-value project\n",
    "PROJECT_ID = project[0]\n",
    "PROJECT_ID"
   ]
  },
  {
   "cell_type": "code",
   "execution_count": 3,
   "id": "72d9ac6a",
   "metadata": {},
   "outputs": [],
   "source": [
    "BUCKET_URI = \"gs://vertex-ai-1\"\n",
    "SERVICE_ACCOUNT = \"vertex-ai@assessment1-361706.iam.gserviceaccount.com\"\n",
    "PIPELINE_ROOT = \"{}/pipeline_root/price-regular\".format(BUCKET_URI)"
   ]
  },
  {
   "cell_type": "code",
   "execution_count": 4,
   "id": "cfdbd27d",
   "metadata": {},
   "outputs": [],
   "source": [
    "aip.init(project=PROJECT_ID, staging_bucket=BUCKET_URI)"
   ]
  },
  {
   "cell_type": "code",
   "execution_count": 5,
   "id": "bc87e0f5",
   "metadata": {},
   "outputs": [],
   "source": [
    "TRAIN_FILE_NAME = \"promo.csv\"\n",
    "! gsutil cp gs://vertex-ai-1/promo.csv {PIPELINE_ROOT}/data/"
   ]
  },
  {
   "cell_type": "code",
   "execution_count": 6,
   "id": "fb5149ed",
   "metadata": {},
   "outputs": [
    {
     "name": "stderr",
     "output_type": "stream",
     "text": [
      "Copying gs://vertex-ai-1/promo.csv [Content-Type=text/csv]...\n",
      "/ [0 files][    0.0 B/ 20.8 KiB]                                                \n",
      "/ [0 files][ 20.8 KiB/ 20.8 KiB]                                                \n",
      "-\n",
      "- [1 files][ 20.8 KiB/ 20.8 KiB]                                                \n",
      "\n",
      "Operation completed over 1 objects/20.8 KiB.                                     \n"
     ]
    }
   ],
   "source": [
    "gcs_csv_path = f\"{PIPELINE_ROOT}/data/{TRAIN_FILE_NAME}\"\n",
    "REGION = \"us-central1\""
   ]
  },
  {
   "cell_type": "code",
   "execution_count": 7,
   "id": "16a76909",
   "metadata": {},
   "outputs": [],
   "source": [
    "import random\n",
    "import string\n",
    "\n",
    "def generate_uuid():\n",
    "    return \"\".join(random.choices(string.ascii_lowercase + string.digits, k=8))\n",
    "\n",
    "UUID = generate_uuid()"
   ]
  },
  {
   "cell_type": "code",
   "execution_count": 11,
   "id": "c639ba17",
   "metadata": {},
   "outputs": [],
   "source": [
    "@kfp.dsl.pipeline(name=\"automl-tab-training-v2\")\n",
    "def pipeline(project: str = PROJECT_ID, region: str = REGION):\n",
    "    from google_cloud_pipeline_components import aiplatform as gcc_aip\n",
    "    from google_cloud_pipeline_components.v1.endpoint import (EndpointCreateOp,\n",
    "                                                              ModelDeployOp)\n",
    "\n",
    "    dataset_create_op = gcc_aip.TabularDatasetCreateOp(\n",
    "        project=project, display_name=\"price-promo\", gcs_source=gcs_csv_path\n",
    "    )\n",
    "\n",
    "    training_op = gcc_aip.AutoMLTabularTrainingJobRunOp(\n",
    "        project=project,\n",
    "        display_name=\"train-automl-price-promo\",\n",
    "        optimization_prediction_type=\"regression\",\n",
    "        optimization_objective=\"minimize-rmse\",\n",
    "        budget_milli_node_hours = 1000,\n",
    "        column_transformations=[\n",
    "            {\"numeric\": {\"column_name\": \"cost_price\"}},\n",
    "            {\"numeric\": {\"column_name\": \"promo_price\"}},\n",
    "            {\"numeric\": {\"column_name\": \"promo_volume\"}},\n",
    "            {\"numeric\": {\"column_name\": \"promo_pe\"}}\n",
    "        ],\n",
    "        dataset=dataset_create_op.outputs[\"dataset\"],\n",
    "        target_column=\"promo_pe\",\n",
    "    )\n",
    "\n",
    "    endpoint_op = EndpointCreateOp(\n",
    "        project=project,\n",
    "        location=region,\n",
    "        display_name=\"train-automl-pprice_endpoint\",\n",
    "    )\n",
    "\n",
    "    _ = ModelDeployOp(\n",
    "        model=training_op.outputs[\"model\"],\n",
    "        endpoint=endpoint_op.outputs[\"endpoint\"],\n",
    "        dedicated_resources_machine_type=\"n1-standard-4\",\n",
    "        dedicated_resources_min_replica_count=1,\n",
    "        dedicated_resources_max_replica_count=1,\n",
    "    )"
   ]
  },
  {
   "cell_type": "code",
   "execution_count": 12,
   "id": "8fdf18fb",
   "metadata": {},
   "outputs": [],
   "source": [
    "from kfp.v2 import compiler\n",
    "\n",
    "compiler.Compiler().compile(\n",
    "    pipeline_func=pipeline,\n",
    "    package_path=\"tabular_regression_ppipeline.json\",\n",
    ")"
   ]
  },
  {
   "cell_type": "code",
   "execution_count": 13,
   "id": "56f84b27",
   "metadata": {},
   "outputs": [],
   "source": [
    "import os\n",
    "os.environ[\"GOOGLE_APPLICATION_CREDENTIALS\"] = \"assessment1-361706-0a442522753f.json\""
   ]
  },
  {
   "cell_type": "code",
   "execution_count": 14,
   "id": "57b700c5",
   "metadata": {},
   "outputs": [
    {
     "name": "stdout",
     "output_type": "stream",
     "text": [
      "Creating PipelineJob\n",
      "PipelineJob created. Resource name: projects/1050316944664/locations/us-central1/pipelineJobs/automl-tab-training-v2-20220906194425\n",
      "To use this PipelineJob in another session:\n",
      "pipeline_job = aiplatform.PipelineJob.get('projects/1050316944664/locations/us-central1/pipelineJobs/automl-tab-training-v2-20220906194425')\n",
      "View Pipeline Job:\n",
      "https://console.cloud.google.com/vertex-ai/locations/us-central1/pipelines/runs/automl-tab-training-v2-20220906194425?project=1050316944664\n",
      "PipelineJob projects/1050316944664/locations/us-central1/pipelineJobs/automl-tab-training-v2-20220906194425 current state:\n",
      "PipelineState.PIPELINE_STATE_RUNNING\n",
      "PipelineJob projects/1050316944664/locations/us-central1/pipelineJobs/automl-tab-training-v2-20220906194425 current state:\n",
      "PipelineState.PIPELINE_STATE_RUNNING\n",
      "PipelineJob projects/1050316944664/locations/us-central1/pipelineJobs/automl-tab-training-v2-20220906194425 current state:\n",
      "PipelineState.PIPELINE_STATE_RUNNING\n",
      "PipelineJob projects/1050316944664/locations/us-central1/pipelineJobs/automl-tab-training-v2-20220906194425 current state:\n",
      "PipelineState.PIPELINE_STATE_RUNNING\n",
      "PipelineJob projects/1050316944664/locations/us-central1/pipelineJobs/automl-tab-training-v2-20220906194425 current state:\n",
      "PipelineState.PIPELINE_STATE_RUNNING\n",
      "PipelineJob projects/1050316944664/locations/us-central1/pipelineJobs/automl-tab-training-v2-20220906194425 current state:\n",
      "PipelineState.PIPELINE_STATE_RUNNING\n",
      "PipelineJob projects/1050316944664/locations/us-central1/pipelineJobs/automl-tab-training-v2-20220906194425 current state:\n",
      "PipelineState.PIPELINE_STATE_RUNNING\n",
      "PipelineJob projects/1050316944664/locations/us-central1/pipelineJobs/automl-tab-training-v2-20220906194425 current state:\n",
      "PipelineState.PIPELINE_STATE_RUNNING\n",
      "PipelineJob projects/1050316944664/locations/us-central1/pipelineJobs/automl-tab-training-v2-20220906194425 current state:\n",
      "PipelineState.PIPELINE_STATE_RUNNING\n",
      "PipelineJob projects/1050316944664/locations/us-central1/pipelineJobs/automl-tab-training-v2-20220906194425 current state:\n",
      "PipelineState.PIPELINE_STATE_RUNNING\n",
      "PipelineJob projects/1050316944664/locations/us-central1/pipelineJobs/automl-tab-training-v2-20220906194425 current state:\n",
      "PipelineState.PIPELINE_STATE_RUNNING\n",
      "PipelineJob projects/1050316944664/locations/us-central1/pipelineJobs/automl-tab-training-v2-20220906194425 current state:\n",
      "PipelineState.PIPELINE_STATE_RUNNING\n",
      "PipelineJob projects/1050316944664/locations/us-central1/pipelineJobs/automl-tab-training-v2-20220906194425 current state:\n",
      "PipelineState.PIPELINE_STATE_RUNNING\n",
      "PipelineJob projects/1050316944664/locations/us-central1/pipelineJobs/automl-tab-training-v2-20220906194425 current state:\n",
      "PipelineState.PIPELINE_STATE_RUNNING\n",
      "PipelineJob projects/1050316944664/locations/us-central1/pipelineJobs/automl-tab-training-v2-20220906194425 current state:\n",
      "PipelineState.PIPELINE_STATE_RUNNING\n",
      "PipelineJob projects/1050316944664/locations/us-central1/pipelineJobs/automl-tab-training-v2-20220906194425 current state:\n",
      "PipelineState.PIPELINE_STATE_RUNNING\n",
      "PipelineJob projects/1050316944664/locations/us-central1/pipelineJobs/automl-tab-training-v2-20220906194425 current state:\n",
      "PipelineState.PIPELINE_STATE_RUNNING\n",
      "PipelineJob projects/1050316944664/locations/us-central1/pipelineJobs/automl-tab-training-v2-20220906194425 current state:\n",
      "PipelineState.PIPELINE_STATE_RUNNING\n",
      "PipelineJob projects/1050316944664/locations/us-central1/pipelineJobs/automl-tab-training-v2-20220906194425 current state:\n",
      "PipelineState.PIPELINE_STATE_RUNNING\n",
      "PipelineJob projects/1050316944664/locations/us-central1/pipelineJobs/automl-tab-training-v2-20220906194425 current state:\n",
      "PipelineState.PIPELINE_STATE_RUNNING\n",
      "PipelineJob projects/1050316944664/locations/us-central1/pipelineJobs/automl-tab-training-v2-20220906194425 current state:\n",
      "PipelineState.PIPELINE_STATE_RUNNING\n",
      "PipelineJob projects/1050316944664/locations/us-central1/pipelineJobs/automl-tab-training-v2-20220906194425 current state:\n",
      "PipelineState.PIPELINE_STATE_RUNNING\n",
      "PipelineJob projects/1050316944664/locations/us-central1/pipelineJobs/automl-tab-training-v2-20220906194425 current state:\n",
      "PipelineState.PIPELINE_STATE_RUNNING\n",
      "PipelineJob projects/1050316944664/locations/us-central1/pipelineJobs/automl-tab-training-v2-20220906194425 current state:\n",
      "PipelineState.PIPELINE_STATE_RUNNING\n",
      "PipelineJob projects/1050316944664/locations/us-central1/pipelineJobs/automl-tab-training-v2-20220906194425 current state:\n",
      "PipelineState.PIPELINE_STATE_RUNNING\n",
      "PipelineJob projects/1050316944664/locations/us-central1/pipelineJobs/automl-tab-training-v2-20220906194425 current state:\n",
      "PipelineState.PIPELINE_STATE_RUNNING\n",
      "PipelineJob projects/1050316944664/locations/us-central1/pipelineJobs/automl-tab-training-v2-20220906194425 current state:\n",
      "PipelineState.PIPELINE_STATE_RUNNING\n",
      "PipelineJob run completed. Resource name: projects/1050316944664/locations/us-central1/pipelineJobs/automl-tab-training-v2-20220906194425\n"
     ]
    },
    {
     "name": "stderr",
     "output_type": "stream",
     "text": [
      "'rm' is not recognized as an internal or external command,\n",
      "operable program or batch file.\n"
     ]
    }
   ],
   "source": [
    "DISPLAY_NAME = \"price-promo_\" + UUID\n",
    "\n",
    "job = aip.PipelineJob(\n",
    "    display_name=DISPLAY_NAME,\n",
    "    template_path=\"tabular_regression_ppipeline.json\",\n",
    "    pipeline_root=PIPELINE_ROOT,\n",
    "    enable_caching=False,\n",
    ")\n",
    "\n",
    "job.run()\n",
    "\n",
    "! rm tabular_regression_ppipeline.json"
   ]
  },
  {
   "cell_type": "code",
   "execution_count": 15,
   "id": "c7cc5100",
   "metadata": {},
   "outputs": [
    {
     "data": {
      "text/html": [
       "<div>\n",
       "<style scoped>\n",
       "    .dataframe tbody tr th:only-of-type {\n",
       "        vertical-align: middle;\n",
       "    }\n",
       "\n",
       "    .dataframe tbody tr th {\n",
       "        vertical-align: top;\n",
       "    }\n",
       "\n",
       "    .dataframe thead th {\n",
       "        text-align: right;\n",
       "    }\n",
       "</style>\n",
       "<table border=\"1\" class=\"dataframe\">\n",
       "  <thead>\n",
       "    <tr style=\"text-align: right;\">\n",
       "      <th></th>\n",
       "      <th>pipeline_name</th>\n",
       "      <th>run_name</th>\n",
       "      <th>param.input:region</th>\n",
       "      <th>param.input:project</th>\n",
       "    </tr>\n",
       "  </thead>\n",
       "  <tbody>\n",
       "    <tr>\n",
       "      <th>0</th>\n",
       "      <td>automl-tab-training-v2</td>\n",
       "      <td>automl-tab-training-v2-20220906194425</td>\n",
       "      <td>us-central1</td>\n",
       "      <td>assessment1-361706</td>\n",
       "    </tr>\n",
       "    <tr>\n",
       "      <th>1</th>\n",
       "      <td>automl-tab-training-v2</td>\n",
       "      <td>automl-tab-training-v2-20220906184004</td>\n",
       "      <td>us-central1</td>\n",
       "      <td>assessment1-361706</td>\n",
       "    </tr>\n",
       "    <tr>\n",
       "      <th>2</th>\n",
       "      <td>automl-tab-training-v2</td>\n",
       "      <td>automl-tab-training-v2-20220906183142</td>\n",
       "      <td>us-central1</td>\n",
       "      <td>assessment1-361706</td>\n",
       "    </tr>\n",
       "    <tr>\n",
       "      <th>3</th>\n",
       "      <td>automl-tab-training-v2</td>\n",
       "      <td>automl-tab-training-v2-20220906180341</td>\n",
       "      <td>us-central1</td>\n",
       "      <td>assessment1-361706</td>\n",
       "    </tr>\n",
       "    <tr>\n",
       "      <th>4</th>\n",
       "      <td>automl-tab-training-v2</td>\n",
       "      <td>automl-tab-training-v2-20220906174631</td>\n",
       "      <td>us-central1</td>\n",
       "      <td>assessment1-361706</td>\n",
       "    </tr>\n",
       "  </tbody>\n",
       "</table>\n",
       "</div>"
      ],
      "text/plain": [
       "            pipeline_name                               run_name  \\\n",
       "0  automl-tab-training-v2  automl-tab-training-v2-20220906194425   \n",
       "1  automl-tab-training-v2  automl-tab-training-v2-20220906184004   \n",
       "2  automl-tab-training-v2  automl-tab-training-v2-20220906183142   \n",
       "3  automl-tab-training-v2  automl-tab-training-v2-20220906180341   \n",
       "4  automl-tab-training-v2  automl-tab-training-v2-20220906174631   \n",
       "\n",
       "  param.input:region param.input:project  \n",
       "0        us-central1  assessment1-361706  \n",
       "1        us-central1  assessment1-361706  \n",
       "2        us-central1  assessment1-361706  \n",
       "3        us-central1  assessment1-361706  \n",
       "4        us-central1  assessment1-361706  "
      ]
     },
     "execution_count": 15,
     "metadata": {},
     "output_type": "execute_result"
    }
   ],
   "source": [
    "from google.cloud import aiplatform\n",
    "\n",
    "aiplatform.get_pipeline_df(pipeline = 'automl-tab-training-v2')"
   ]
  },
  {
   "cell_type": "code",
   "execution_count": 16,
   "id": "1e643787",
   "metadata": {},
   "outputs": [],
   "source": [
    "models = aiplatform.Model.list()"
   ]
  },
  {
   "cell_type": "code",
   "execution_count": 17,
   "id": "64aada43",
   "metadata": {},
   "outputs": [
    {
     "data": {
      "text/plain": [
       "'projects/1050316944664/locations/us-central1/models/7275261732807770112'"
      ]
     },
     "execution_count": 17,
     "metadata": {},
     "output_type": "execute_result"
    }
   ],
   "source": [
    "model = models[0]\n",
    "model.resource_name"
   ]
  },
  {
   "cell_type": "code",
   "execution_count": 18,
   "id": "3df5c6a9",
   "metadata": {},
   "outputs": [
    {
     "data": {
      "text/plain": [
       "'train-automl-pprice_endpoint'"
      ]
     },
     "execution_count": 18,
     "metadata": {},
     "output_type": "execute_result"
    }
   ],
   "source": [
    "endpoint = aiplatform.Endpoint.list()[0]\n",
    "endpoint.display_name"
   ]
  },
  {
   "cell_type": "code",
   "execution_count": 20,
   "id": "6128c2e4",
   "metadata": {},
   "outputs": [
    {
     "data": {
      "text/plain": [
       "-0.1657071262598038"
      ]
     },
     "execution_count": 20,
     "metadata": {},
     "output_type": "execute_result"
    }
   ],
   "source": [
    "prediction = endpoint.predict(instances=[{\"cost_price\": \"180\", \"promo_price\": \"300\", \"promo_volume\": \"290\"}])\n",
    "prediction.predictions[0]['value']"
   ]
  },
  {
   "cell_type": "markdown",
   "id": "225313ca",
   "metadata": {},
   "source": [
    "# GET Predictions with REST"
   ]
  },
  {
   "cell_type": "code",
   "execution_count": 21,
   "id": "12fb5d66",
   "metadata": {},
   "outputs": [],
   "source": [
    "import json\n",
    "targets = [{\"cost_price\": \"180\", \"promo_price\": \"300\", \"promo_volume\": \"290\"}]\n",
    "with open(f'request.json','w') as file:\n",
    "    file.write(json.dumps({\"instances\": targets}))"
   ]
  },
  {
   "cell_type": "code",
   "execution_count": 22,
   "id": "1cea92db",
   "metadata": {},
   "outputs": [
    {
     "name": "stdout",
     "output_type": "stream",
     "text": [
      "^C\n"
     ]
    }
   ],
   "source": [
    "ENDPOINT_ID=\"2318641324561006592\"\n",
    "PROJECT_ID=\"assessment1-361706\"\n",
    "INPUT_DATA_FILE=\"request.json\"\n",
    "!gcloud auth application-default login"
   ]
  },
  {
   "cell_type": "code",
   "execution_count": null,
   "id": "3252555d",
   "metadata": {},
   "outputs": [],
   "source": [
    "curl \\\n",
    "-X POST \\\n",
    "-H \"Authorization: Bearer $(gcloud auth print-access-token)\" \\\n",
    "-H \"Content-Type: application/json\" \\\n",
    "https://us-central1-aiplatform.googleapis.com/v1/projects/${PROJECT_ID}/locations/us-central1/endpoints/${ENDPOINT_ID}:predict \\\n",
    "-d \"@${INPUT_DATA_FILE}\""
   ]
  }
 ],
 "metadata": {
  "environment": {
   "kernel": "python3",
   "name": "tf2-gpu.2-3.m94",
   "type": "gcloud",
   "uri": "gcr.io/deeplearning-platform-release/tf2-gpu.2-3:m94"
  },
  "kernelspec": {
   "display_name": "Python 3 (ipykernel)",
   "language": "python",
   "name": "python3"
  },
  "language_info": {
   "codemirror_mode": {
    "name": "ipython",
    "version": 3
   },
   "file_extension": ".py",
   "mimetype": "text/x-python",
   "name": "python",
   "nbconvert_exporter": "python",
   "pygments_lexer": "ipython3",
   "version": "3.9.12"
  }
 },
 "nbformat": 4,
 "nbformat_minor": 5
}
