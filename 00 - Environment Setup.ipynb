{
 "cells": [
  {
   "cell_type": "markdown",
   "id": "2c69d4d9",
   "metadata": {},
   "source": [
    "# 00 - Environment Setup\n",
    "\n",
    "This is the notebook that sets up the GCP project for the other notebooks in this repository.  Based on the [`Readme.md`](https://github.com/statmike/vertex-ai-mlops/blob/main/readme.md), you already have this repository of notebooks pulled as a local resource in your Vertex AI Workbench based notebook instance.\n",
    "\n",
    "### Video Walkthrough of this notebook:\n",
    "Includes conversational walkthrough and more explanatory information than the notebook:\n",
    "<p align=\"center\" width=\"100%\" width=\"100%\"><center><a href=\"https://youtu.be/pnQ5Rv4ZQfo\" target=\"_blank\" rel=\"noopener noreferrer\"><img src=\"../architectures/thumbnails/playbutton/00.png\" width=\"40%\"></a></center></p>\n",
    "\n",
    "\n",
    "### Conceptual Flow & Workflow\n",
    "<p align=\"center\">\n",
    "  <img alt=\"Conceptual Flow\" src=\"../architectures/slides/00_arch.png\" width=\"45%\">\n",
    "&nbsp; &nbsp; &nbsp; &nbsp;\n",
    "  <img alt=\"Workflow\" src=\"../architectures/slides/00_console.png\" width=\"45%\">\n",
    "</p>"
   ]
  },
  {
   "cell_type": "markdown",
   "id": "82ee7178",
   "metadata": {},
   "source": [
    "---\n",
    "## Setup"
   ]
  },
  {
   "cell_type": "markdown",
   "id": "c80aba5e",
   "metadata": {},
   "source": [
    "inputs:"
   ]
  },
  {
   "cell_type": "code",
   "execution_count": 1,
   "id": "03f9ee4d-62f2-473f-b9ea-61212bf9074e",
   "metadata": {},
   "outputs": [
    {
     "data": {
      "text/plain": [
       "'assessment1-361706'"
      ]
     },
     "execution_count": 1,
     "metadata": {},
     "output_type": "execute_result"
    }
   ],
   "source": [
    "project = !gcloud config get-value project\n",
    "PROJECT_ID = project[0]\n",
    "PROJECT_ID"
   ]
  },
  {
   "cell_type": "code",
   "execution_count": 3,
   "id": "5c342aab",
   "metadata": {},
   "outputs": [],
   "source": [
    "REGION = 'us-central1'\n",
    "DATANAME = 'data-pe'\n",
    "\n",
    "# Data source for this series of notebooks: Described in notebook 01\n",
    "BQ_SOURCE = 'bigquery-public-data.ml_datasets.ulb_fraud_detection'"
   ]
  },
  {
   "cell_type": "markdown",
   "id": "aeef2941",
   "metadata": {},
   "source": [
    "**Note**\n",
    " \n",
    "This repository is set to use a BQ_SOURCE table from the `bigquery-public-data` project.  More information on this project [here](https://cloud.google.com/bigquery/public-data)"
   ]
  },
  {
   "cell_type": "markdown",
   "id": "632bae5a",
   "metadata": {},
   "source": [
    "packages:"
   ]
  },
  {
   "cell_type": "code",
   "execution_count": 2,
   "id": "6d470506",
   "metadata": {},
   "outputs": [],
   "source": [
    "from google.cloud import storage\n",
    "from google.cloud import bigquery\n",
    "\n",
    "import pandas as pd\n",
    "from sklearn import datasets"
   ]
  },
  {
   "cell_type": "markdown",
   "id": "9728c71d",
   "metadata": {},
   "source": [
    "parameters:"
   ]
  },
  {
   "cell_type": "code",
   "execution_count": 4,
   "id": "45c5eb21",
   "metadata": {},
   "outputs": [],
   "source": [
    "BUCKET = PROJECT_ID"
   ]
  },
  {
   "cell_type": "markdown",
   "id": "d2ade2ea",
   "metadata": {},
   "source": [
    "---\n",
    "## Create Storage Bucket"
   ]
  },
  {
   "cell_type": "code",
   "execution_count": 6,
   "id": "3425b30d",
   "metadata": {},
   "outputs": [],
   "source": [
    "import os\n",
    "os.environ[\"GOOGLE_APPLICATION_CREDENTIALS\"]=\"assessment1-361706-0a442522753f.json\""
   ]
  },
  {
   "cell_type": "code",
   "execution_count": 7,
   "id": "6956db77",
   "metadata": {},
   "outputs": [],
   "source": [
    "gcs = storage.Client(project = PROJECT_ID)"
   ]
  },
  {
   "cell_type": "code",
   "execution_count": 10,
   "id": "baa83e13",
   "metadata": {},
   "outputs": [
    {
     "name": "stdout",
     "output_type": "stream",
     "text": [
      "<Bucket: assessment1-361706>\n"
     ]
    }
   ],
   "source": [
    "if not gcs.lookup_bucket(BUCKET):\n",
    "    bucketDef = gcs.bucket(BUCKET)\n",
    "    bucket = gcs.create_bucket(bucketDef, project=PROJECT_ID, location=REGION)\n",
    "    print(bucket)\n",
    "else:\n",
    "    print(gcs.lookup_bucket(BUCKET))"
   ]
  },
  {
   "cell_type": "markdown",
   "id": "f9ba62a4",
   "metadata": {},
   "source": [
    "---\n",
    "## Store Project Data in the Storage Bucket\n",
    "- export from bigquery table to GCS bucket as CSV\n",
    "    - the table is referenced in the `BQ_SOURCE` variable at the top of this notebook\n",
    "- https://cloud.google.com/bigquery/docs/exporting-data#python"
   ]
  },
  {
   "cell_type": "code",
   "execution_count": 11,
   "id": "223a2042",
   "metadata": {},
   "outputs": [],
   "source": [
    "bq = bigquery.Client(project = PROJECT_ID)\n",
    "destination = f\"gs://{BUCKET}/{DATANAME}/data/{DATANAME}.csv\"\n",
    "source = bigquery.TableReference.from_string(BQ_SOURCE)\n",
    "extract = bq.extract_table(source, destination)"
   ]
  },
  {
   "cell_type": "code",
   "execution_count": null,
   "id": "778b5203",
   "metadata": {},
   "outputs": [],
   "source": [
    "extract.result()"
   ]
  },
  {
   "cell_type": "markdown",
   "id": "24e7bef6",
   "metadata": {},
   "source": [
    "---\n",
    "## Install KFP\n",
    "If you get an error after a step, rerun it.  The dependecies sometimes resolve."
   ]
  },
  {
   "cell_type": "code",
   "execution_count": 4,
   "id": "7b11a956",
   "metadata": {},
   "outputs": [],
   "source": [
    "!pip install kfp -U -q"
   ]
  },
  {
   "cell_type": "code",
   "execution_count": 5,
   "id": "ba0cdd23",
   "metadata": {},
   "outputs": [],
   "source": [
    "!pip install google-cloud-pipeline-components -U -q"
   ]
  },
  {
   "cell_type": "markdown",
   "id": "56a49f3c",
   "metadata": {},
   "source": [
    "---\n",
    "## Other For Specific Notebooks"
   ]
  },
  {
   "cell_type": "markdown",
   "id": "b073321d",
   "metadata": {},
   "source": [
    "10 - Plotly used for visualizations"
   ]
  },
  {
   "cell_type": "code",
   "execution_count": 6,
   "id": "bb838280",
   "metadata": {},
   "outputs": [],
   "source": [
    "!pip install plotly -q"
   ]
  },
  {
   "cell_type": "markdown",
   "id": "9681525d",
   "metadata": {
    "tags": []
   },
   "source": [
    "---\n",
    "## Update AIPlatform Package:\n",
    "\n",
    "The `google-cloud-aiplatform` package updates frequently.  Update it for latest functionality.\n",
    "- Does this need to be run after KFP install below?"
   ]
  },
  {
   "cell_type": "code",
   "execution_count": 8,
   "id": "28e46217",
   "metadata": {},
   "outputs": [],
   "source": [
    "!pip install --upgrade googleapis-common-protos -q\n",
    "!pip install google-cloud-aiplatform -U -q"
   ]
  },
  {
   "cell_type": "code",
   "execution_count": null,
   "id": "abc46b09-70e3-4435-9d69-18b8aeef263f",
   "metadata": {},
   "outputs": [],
   "source": []
  }
 ],
 "metadata": {
  "environment": {
   "kernel": "python3",
   "name": "tf2-gpu.2-3.m94",
   "type": "gcloud",
   "uri": "gcr.io/deeplearning-platform-release/tf2-gpu.2-3:m94"
  },
  "kernelspec": {
   "display_name": "Python 3 (ipykernel)",
   "language": "python",
   "name": "python3"
  },
  "language_info": {
   "codemirror_mode": {
    "name": "ipython",
    "version": 3
   },
   "file_extension": ".py",
   "mimetype": "text/x-python",
   "name": "python",
   "nbconvert_exporter": "python",
   "pygments_lexer": "ipython3",
   "version": "3.9.12"
  }
 },
 "nbformat": 4,
 "nbformat_minor": 5
}
