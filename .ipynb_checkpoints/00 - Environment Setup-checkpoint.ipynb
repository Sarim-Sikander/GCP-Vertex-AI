{
 "cells": [
  {
   "cell_type": "markdown",
   "id": "2c69d4d9",
   "metadata": {},
   "source": [
    "# 00 - Environment Setup\n",
    "\n",
    "This is the notebook that sets up the GCP project for the other notebooks in this repository.  Based on the [`Readme.md`](https://github.com/statmike/vertex-ai-mlops/blob/main/readme.md), you already have this repository of notebooks pulled as a local resource in your Vertex AI Workbench based notebook instance.\n",
    "\n",
    "### Video Walkthrough of this notebook:\n",
    "Includes conversational walkthrough and more explanatory information than the notebook:\n",
    "<p align=\"center\" width=\"100%\" width=\"100%\"><center><a href=\"https://youtu.be/pnQ5Rv4ZQfo\" target=\"_blank\" rel=\"noopener noreferrer\"><img src=\"../architectures/thumbnails/playbutton/00.png\" width=\"40%\"></a></center></p>\n",
    "\n",
    "\n",
    "### Conceptual Flow & Workflow\n",
    "<p align=\"center\">\n",
    "  <img alt=\"Conceptual Flow\" src=\"../architectures/slides/00_arch.png\" width=\"45%\">\n",
    "&nbsp; &nbsp; &nbsp; &nbsp;\n",
    "  <img alt=\"Workflow\" src=\"../architectures/slides/00_console.png\" width=\"45%\">\n",
    "</p>"
   ]
  },
  {
   "cell_type": "markdown",
   "id": "82ee7178",
   "metadata": {},
   "source": [
    "---\n",
    "## Setup"
   ]
  },
  {
   "cell_type": "markdown",
   "id": "c80aba5e",
   "metadata": {},
   "source": [
    "inputs:"
   ]
  },
  {
   "cell_type": "code",
   "execution_count": 1,
   "id": "03f9ee4d-62f2-473f-b9ea-61212bf9074e",
   "metadata": {},
   "outputs": [
    {
     "data": {
      "text/plain": [
       "'assessment1-361706'"
      ]
     },
     "execution_count": 1,
     "metadata": {},
     "output_type": "execute_result"
    }
   ],
   "source": [
    "project = !gcloud config get-value project\n",
    "PROJECT_ID = project[0]\n",
    "PROJECT_ID"
   ]
  },
  {
   "cell_type": "code",
   "execution_count": 3,
   "id": "5c342aab",
   "metadata": {},
   "outputs": [],
   "source": [
    "REGION = 'us-central1'\n",
    "DATANAME = 'data-pe'\n",
    "\n",
    "# Data source for this series of notebooks: Described in notebook 01\n",
    "BQ_SOURCE = 'bigquery-public-data.ml_datasets.ulb_fraud_detection'"
   ]
  },
  {
   "cell_type": "markdown",
   "id": "aeef2941",
   "metadata": {},
   "source": [
    "**Note**\n",
    " \n",
    "This repository is set to use a BQ_SOURCE table from the `bigquery-public-data` project.  More information on this project [here](https://cloud.google.com/bigquery/public-data)"
   ]
  },
  {
   "cell_type": "markdown",
   "id": "632bae5a",
   "metadata": {},
   "source": [
    "packages:"
   ]
  },
  {
   "cell_type": "code",
   "execution_count": 2,
   "id": "6d470506",
   "metadata": {},
   "outputs": [],
   "source": [
    "from google.cloud import storage\n",
    "from google.cloud import bigquery\n",
    "\n",
    "import pandas as pd\n",
    "from sklearn import datasets"
   ]
  },
  {
   "cell_type": "markdown",
   "id": "9728c71d",
   "metadata": {},
   "source": [
    "parameters:"
   ]
  },
  {
   "cell_type": "code",
   "execution_count": 4,
   "id": "45c5eb21",
   "metadata": {},
   "outputs": [],
   "source": [
    "BUCKET = PROJECT_ID"
   ]
  },
  {
   "cell_type": "markdown",
   "id": "d2ade2ea",
   "metadata": {},
   "source": [
    "---\n",
    "## Create Storage Bucket"
   ]
  },
  {
   "cell_type": "code",
   "execution_count": 5,
   "id": "6956db77",
   "metadata": {},
   "outputs": [
    {
     "ename": "DefaultCredentialsError",
     "evalue": "Could not automatically determine credentials. Please set GOOGLE_APPLICATION_CREDENTIALS or explicitly create credentials and re-run the application. For more information, please see https://cloud.google.com/docs/authentication/getting-started",
     "output_type": "error",
     "traceback": [
      "\u001b[1;31m---------------------------------------------------------------------------\u001b[0m",
      "\u001b[1;31mDefaultCredentialsError\u001b[0m                   Traceback (most recent call last)",
      "Input \u001b[1;32mIn [5]\u001b[0m, in \u001b[0;36m<cell line: 1>\u001b[1;34m()\u001b[0m\n\u001b[1;32m----> 1\u001b[0m gcs \u001b[38;5;241m=\u001b[39m \u001b[43mstorage\u001b[49m\u001b[38;5;241;43m.\u001b[39;49m\u001b[43mClient\u001b[49m\u001b[43m(\u001b[49m\u001b[43mproject\u001b[49m\u001b[43m \u001b[49m\u001b[38;5;241;43m=\u001b[39;49m\u001b[43m \u001b[49m\u001b[43mPROJECT_ID\u001b[49m\u001b[43m)\u001b[49m\n",
      "File \u001b[1;32m~\\anaconda3\\envs\\work\\lib\\site-packages\\google\\cloud\\storage\\client.py:124\u001b[0m, in \u001b[0;36mClient.__init__\u001b[1;34m(self, project, credentials, _http, client_info, client_options)\u001b[0m\n\u001b[0;32m    121\u001b[0m \u001b[38;5;28;01mif\u001b[39;00m project \u001b[38;5;129;01mis\u001b[39;00m _marker:\n\u001b[0;32m    122\u001b[0m     project \u001b[38;5;241m=\u001b[39m \u001b[38;5;28;01mNone\u001b[39;00m\n\u001b[1;32m--> 124\u001b[0m \u001b[38;5;28;43msuper\u001b[39;49m\u001b[43m(\u001b[49m\u001b[43mClient\u001b[49m\u001b[43m,\u001b[49m\u001b[43m \u001b[49m\u001b[38;5;28;43mself\u001b[39;49m\u001b[43m)\u001b[49m\u001b[38;5;241;43m.\u001b[39;49m\u001b[38;5;21;43m__init__\u001b[39;49m\u001b[43m(\u001b[49m\n\u001b[0;32m    125\u001b[0m \u001b[43m    \u001b[49m\u001b[43mproject\u001b[49m\u001b[38;5;241;43m=\u001b[39;49m\u001b[43mproject\u001b[49m\u001b[43m,\u001b[49m\n\u001b[0;32m    126\u001b[0m \u001b[43m    \u001b[49m\u001b[43mcredentials\u001b[49m\u001b[38;5;241;43m=\u001b[39;49m\u001b[43mcredentials\u001b[49m\u001b[43m,\u001b[49m\n\u001b[0;32m    127\u001b[0m \u001b[43m    \u001b[49m\u001b[43mclient_options\u001b[49m\u001b[38;5;241;43m=\u001b[39;49m\u001b[43mclient_options\u001b[49m\u001b[43m,\u001b[49m\n\u001b[0;32m    128\u001b[0m \u001b[43m    \u001b[49m\u001b[43m_http\u001b[49m\u001b[38;5;241;43m=\u001b[39;49m\u001b[43m_http\u001b[49m\u001b[43m,\u001b[49m\n\u001b[0;32m    129\u001b[0m \u001b[43m\u001b[49m\u001b[43m)\u001b[49m\n\u001b[0;32m    131\u001b[0m kw_args \u001b[38;5;241m=\u001b[39m {\u001b[38;5;124m\"\u001b[39m\u001b[38;5;124mclient_info\u001b[39m\u001b[38;5;124m\"\u001b[39m: client_info}\n\u001b[0;32m    133\u001b[0m \u001b[38;5;66;03m# `api_endpoint` should be only set by the user via `client_options`,\u001b[39;00m\n\u001b[0;32m    134\u001b[0m \u001b[38;5;66;03m# or if the _get_storage_host() returns a non-default value.\u001b[39;00m\n\u001b[0;32m    135\u001b[0m \u001b[38;5;66;03m# `api_endpoint` plays an important role for mTLS, if it is not set,\u001b[39;00m\n\u001b[0;32m    136\u001b[0m \u001b[38;5;66;03m# then mTLS logic will be applied to decide which endpoint will be used.\u001b[39;00m\n",
      "File \u001b[1;32m~\\anaconda3\\envs\\work\\lib\\site-packages\\google\\cloud\\client\\__init__.py:321\u001b[0m, in \u001b[0;36mClientWithProject.__init__\u001b[1;34m(self, project, credentials, client_options, _http)\u001b[0m\n\u001b[0;32m    319\u001b[0m \u001b[38;5;28;01mdef\u001b[39;00m \u001b[38;5;21m__init__\u001b[39m(\u001b[38;5;28mself\u001b[39m, project\u001b[38;5;241m=\u001b[39m\u001b[38;5;28;01mNone\u001b[39;00m, credentials\u001b[38;5;241m=\u001b[39m\u001b[38;5;28;01mNone\u001b[39;00m, client_options\u001b[38;5;241m=\u001b[39m\u001b[38;5;28;01mNone\u001b[39;00m, _http\u001b[38;5;241m=\u001b[39m\u001b[38;5;28;01mNone\u001b[39;00m):\n\u001b[0;32m    320\u001b[0m     _ClientProjectMixin\u001b[38;5;241m.\u001b[39m\u001b[38;5;21m__init__\u001b[39m(\u001b[38;5;28mself\u001b[39m, project\u001b[38;5;241m=\u001b[39mproject, credentials\u001b[38;5;241m=\u001b[39mcredentials)\n\u001b[1;32m--> 321\u001b[0m     \u001b[43mClient\u001b[49m\u001b[38;5;241;43m.\u001b[39;49m\u001b[38;5;21;43m__init__\u001b[39;49m\u001b[43m(\u001b[49m\n\u001b[0;32m    322\u001b[0m \u001b[43m        \u001b[49m\u001b[38;5;28;43mself\u001b[39;49m\u001b[43m,\u001b[49m\u001b[43m \u001b[49m\u001b[43mcredentials\u001b[49m\u001b[38;5;241;43m=\u001b[39;49m\u001b[43mcredentials\u001b[49m\u001b[43m,\u001b[49m\u001b[43m \u001b[49m\u001b[43mclient_options\u001b[49m\u001b[38;5;241;43m=\u001b[39;49m\u001b[43mclient_options\u001b[49m\u001b[43m,\u001b[49m\u001b[43m \u001b[49m\u001b[43m_http\u001b[49m\u001b[38;5;241;43m=\u001b[39;49m\u001b[43m_http\u001b[49m\n\u001b[0;32m    323\u001b[0m \u001b[43m    \u001b[49m\u001b[43m)\u001b[49m\n",
      "File \u001b[1;32m~\\anaconda3\\envs\\work\\lib\\site-packages\\google\\cloud\\client\\__init__.py:178\u001b[0m, in \u001b[0;36mClient.__init__\u001b[1;34m(self, credentials, _http, client_options)\u001b[0m\n\u001b[0;32m    174\u001b[0m         credentials, _ \u001b[38;5;241m=\u001b[39m google\u001b[38;5;241m.\u001b[39mauth\u001b[38;5;241m.\u001b[39mload_credentials_from_file(\n\u001b[0;32m    175\u001b[0m             client_options\u001b[38;5;241m.\u001b[39mcredentials_file, scopes\u001b[38;5;241m=\u001b[39mscopes\n\u001b[0;32m    176\u001b[0m         )\n\u001b[0;32m    177\u001b[0m     \u001b[38;5;28;01melse\u001b[39;00m:\n\u001b[1;32m--> 178\u001b[0m         credentials, _ \u001b[38;5;241m=\u001b[39m \u001b[43mgoogle\u001b[49m\u001b[38;5;241;43m.\u001b[39;49m\u001b[43mauth\u001b[49m\u001b[38;5;241;43m.\u001b[39;49m\u001b[43mdefault\u001b[49m\u001b[43m(\u001b[49m\u001b[43mscopes\u001b[49m\u001b[38;5;241;43m=\u001b[39;49m\u001b[43mscopes\u001b[49m\u001b[43m)\u001b[49m\n\u001b[0;32m    180\u001b[0m \u001b[38;5;28mself\u001b[39m\u001b[38;5;241m.\u001b[39m_credentials \u001b[38;5;241m=\u001b[39m google\u001b[38;5;241m.\u001b[39mauth\u001b[38;5;241m.\u001b[39mcredentials\u001b[38;5;241m.\u001b[39mwith_scopes_if_required(\n\u001b[0;32m    181\u001b[0m     credentials, scopes\u001b[38;5;241m=\u001b[39mscopes\n\u001b[0;32m    182\u001b[0m )\n\u001b[0;32m    184\u001b[0m \u001b[38;5;28;01mif\u001b[39;00m client_options\u001b[38;5;241m.\u001b[39mquota_project_id:\n",
      "File \u001b[1;32m~\\anaconda3\\envs\\work\\lib\\site-packages\\google\\auth\\_default.py:488\u001b[0m, in \u001b[0;36mdefault\u001b[1;34m(scopes, request, quota_project_id, default_scopes)\u001b[0m\n\u001b[0;32m    480\u001b[0m             _LOGGER\u001b[38;5;241m.\u001b[39mwarning(\n\u001b[0;32m    481\u001b[0m                 \u001b[38;5;124m\"\u001b[39m\u001b[38;5;124mNo project ID could be determined. Consider running \u001b[39m\u001b[38;5;124m\"\u001b[39m\n\u001b[0;32m    482\u001b[0m                 \u001b[38;5;124m\"\u001b[39m\u001b[38;5;124m`gcloud config set project` or setting the \u001b[39m\u001b[38;5;132;01m%s\u001b[39;00m\u001b[38;5;124m \u001b[39m\u001b[38;5;124m\"\u001b[39m\n\u001b[0;32m    483\u001b[0m                 \u001b[38;5;124m\"\u001b[39m\u001b[38;5;124menvironment variable\u001b[39m\u001b[38;5;124m\"\u001b[39m,\n\u001b[0;32m    484\u001b[0m                 environment_vars\u001b[38;5;241m.\u001b[39mPROJECT,\n\u001b[0;32m    485\u001b[0m             )\n\u001b[0;32m    486\u001b[0m         \u001b[38;5;28;01mreturn\u001b[39;00m credentials, effective_project_id\n\u001b[1;32m--> 488\u001b[0m \u001b[38;5;28;01mraise\u001b[39;00m exceptions\u001b[38;5;241m.\u001b[39mDefaultCredentialsError(_HELP_MESSAGE)\n",
      "\u001b[1;31mDefaultCredentialsError\u001b[0m: Could not automatically determine credentials. Please set GOOGLE_APPLICATION_CREDENTIALS or explicitly create credentials and re-run the application. For more information, please see https://cloud.google.com/docs/authentication/getting-started"
     ]
    }
   ],
   "source": [
    "gcs = storage.Client(project = PROJECT_ID)"
   ]
  },
  {
   "cell_type": "code",
   "execution_count": 19,
   "id": "baa83e13",
   "metadata": {},
   "outputs": [
    {
     "name": "stdout",
     "output_type": "stream",
     "text": [
      "<Bucket: statmike-mlops-349915>\n"
     ]
    }
   ],
   "source": [
    "if not gcs.lookup_bucket(BUCKET):\n",
    "    bucketDef = gcs.bucket(BUCKET)\n",
    "    bucket = gcs.create_bucket(bucketDef, project=PROJECT_ID, location=REGION)\n",
    "    print(bucket)\n",
    "else:\n",
    "    print(gcs.lookup_bucket(BUCKET))"
   ]
  },
  {
   "cell_type": "markdown",
   "id": "f9ba62a4",
   "metadata": {},
   "source": [
    "---\n",
    "## Store Project Data in the Storage Bucket\n",
    "- export from bigquery table to GCS bucket as CSV\n",
    "    - the table is referenced in the `BQ_SOURCE` variable at the top of this notebook\n",
    "- https://cloud.google.com/bigquery/docs/exporting-data#python"
   ]
  },
  {
   "cell_type": "code",
   "execution_count": 5,
   "id": "223a2042",
   "metadata": {},
   "outputs": [],
   "source": [
    "bq = bigquery.Client(project = PROJECT_ID)\n",
    "destination = f\"gs://{BUCKET}/{DATANAME}/data/{DATANAME}.csv\"\n",
    "source = bigquery.TableReference.from_string(BQ_SOURCE)\n",
    "extract = bq.extract_table(source, destination)"
   ]
  },
  {
   "cell_type": "code",
   "execution_count": 6,
   "id": "778b5203",
   "metadata": {},
   "outputs": [
    {
     "data": {
      "text/plain": [
       "ExtractJob<project=statmike-mlops-349915, location=US, id=7481d8e9-3702-470d-8b8a-3d38884d4772>"
      ]
     },
     "execution_count": 6,
     "metadata": {},
     "output_type": "execute_result"
    }
   ],
   "source": [
    "extract.result()"
   ]
  },
  {
   "cell_type": "markdown",
   "id": "24e7bef6",
   "metadata": {},
   "source": [
    "---\n",
    "## Install KFP\n",
    "If you get an error after a step, rerun it.  The dependecies sometimes resolve."
   ]
  },
  {
   "cell_type": "code",
   "execution_count": 4,
   "id": "7b11a956",
   "metadata": {},
   "outputs": [],
   "source": [
    "!pip install kfp -U -q"
   ]
  },
  {
   "cell_type": "code",
   "execution_count": 5,
   "id": "ba0cdd23",
   "metadata": {},
   "outputs": [],
   "source": [
    "!pip install google-cloud-pipeline-components -U -q"
   ]
  },
  {
   "cell_type": "markdown",
   "id": "56a49f3c",
   "metadata": {},
   "source": [
    "---\n",
    "## Other For Specific Notebooks"
   ]
  },
  {
   "cell_type": "markdown",
   "id": "b073321d",
   "metadata": {},
   "source": [
    "10 - Plotly used for visualizations"
   ]
  },
  {
   "cell_type": "code",
   "execution_count": 6,
   "id": "bb838280",
   "metadata": {},
   "outputs": [],
   "source": [
    "!pip install plotly -q"
   ]
  },
  {
   "cell_type": "markdown",
   "id": "9681525d",
   "metadata": {
    "tags": []
   },
   "source": [
    "---\n",
    "## Update AIPlatform Package:\n",
    "\n",
    "The `google-cloud-aiplatform` package updates frequently.  Update it for latest functionality.\n",
    "- Does this need to be run after KFP install below?"
   ]
  },
  {
   "cell_type": "code",
   "execution_count": 8,
   "id": "28e46217",
   "metadata": {},
   "outputs": [],
   "source": [
    "!pip install --upgrade googleapis-common-protos -q\n",
    "!pip install google-cloud-aiplatform -U -q"
   ]
  },
  {
   "cell_type": "code",
   "execution_count": null,
   "id": "abc46b09-70e3-4435-9d69-18b8aeef263f",
   "metadata": {},
   "outputs": [],
   "source": []
  }
 ],
 "metadata": {
  "environment": {
   "kernel": "python3",
   "name": "tf2-gpu.2-3.m94",
   "type": "gcloud",
   "uri": "gcr.io/deeplearning-platform-release/tf2-gpu.2-3:m94"
  },
  "kernelspec": {
   "display_name": "Python 3 (ipykernel)",
   "language": "python",
   "name": "python3"
  },
  "language_info": {
   "codemirror_mode": {
    "name": "ipython",
    "version": 3
   },
   "file_extension": ".py",
   "mimetype": "text/x-python",
   "name": "python",
   "nbconvert_exporter": "python",
   "pygments_lexer": "ipython3",
   "version": "3.9.12"
  }
 },
 "nbformat": 4,
 "nbformat_minor": 5
}
